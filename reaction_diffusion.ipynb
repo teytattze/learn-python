{
 "cells": [
  {
   "cell_type": "code",
   "execution_count": 59,
   "metadata": {},
   "outputs": [],
   "source": [
    "import numpy as np\n",
    "import matplotlib.pyplot as plt\n",
    "import matplotlib.animation as animation"
   ]
  },
  {
   "cell_type": "code",
   "execution_count": 60,
   "metadata": {},
   "outputs": [],
   "source": [
    "# Parameters from http://www.aliensaint.com/uo/java/rd/\n",
    "n = 256\n",
    "Du, Dv, F, K = 0.16, 0.08, 0.035, 0.065"
   ]
  },
  {
   "cell_type": "code",
   "execution_count": 61,
   "metadata": {},
   "outputs": [],
   "source": [
    "Z = np.zeros((n+2, n+2), [('U', np.double), ('V', np.double)])\n",
    "U, V = Z['U'], Z['V']\n",
    "u, v = U[1:-1, 1:-1], V[1:-1, 1:-1]"
   ]
  },
  {
   "cell_type": "code",
   "execution_count": 62,
   "metadata": {},
   "outputs": [],
   "source": [
    "r = 20\n",
    "u[...] = 1.0\n",
    "U[n//2-r:n//2+r, n//2-r: n//2+r] = 0.5\n",
    "V[n//2-r:n//2+r, n//2-r: n//2+r] = 0.25\n",
    "u += 0.05*np.random.uniform(-1, +1, (n, n))\n",
    "v += 0.05*np.random.uniform(-1, +1, (n, n))"
   ]
  },
  {
   "cell_type": "code",
   "execution_count": 63,
   "metadata": {},
   "outputs": [],
   "source": [
    "def update(frame): \n",
    "  global U, V, u, v, im\n",
    "  \n",
    "  for i in range(10):\n",
    "    Lu = U[:-2, 1:-1] + U[1:-1, :-2] - (4*U[1:-1,1:-1]) + U[1:-1, 2:] + U[2:, 1:-1]\n",
    "    Lv = V[:-2, 1:-1] + V[1:-1, :-2] - (4*V[1:-1,1:-1]) + V[1:-1, 2:] + V[2:, 1:-1]\n",
    "    \n",
    "    uvv = u * v*v\n",
    "    u += (Du*Lu - uvv + F*(1-u))\n",
    "    v += (Dv*Lv + uvv - (F+K)*v)\n",
    "    \n",
    "  im.set_data(v)\n",
    "  im.set_clim(vmin=V.min(), vmax=V.max())\n",
    "    "
   ]
  },
  {
   "cell_type": "code",
   "execution_count": 67,
   "metadata": {},
   "outputs": [
    {
     "data": {
      "image/png": "[encoded data removed]",
      "text/plain": [
       "<Figure size 400x400 with 1 Axes>"
      ]
     },
     "metadata": {},
     "output_type": "display_data"
    }
   ],
   "source": [
    "fig = plt.figure(figsize=(4, 4))\n",
    "fig.add_axes([0.0, 0.0, 1.0, 1.0], frame_on=False)\n",
    "im = plt.imshow(V, interpolation='bicubic', cmap=plt.cm.viridis)\n",
    "plt.xticks([]), plt.yticks([])\n",
    "\n",
    "Writer = animation.writers['ffmpeg']\n",
    "writer = Writer(fps=15, metadata=dict(artist='me'), bitrate=1800)\n",
    "\n",
    "anim = animation.FuncAnimation(fig, update, interval=10, frames=100)\n",
    "anim.save('./outputs/reaction_diffusion.mp4', writer=writer)\n",
    "\n",
    "plt.show()"
   ]
  }
 ],
 "metadata": {
  "kernelspec": {
   "display_name": "quant",
   "language": "python",
   "name": "python3"
  },
  "language_info": {
   "codemirror_mode": {
    "name": "ipython",
    "version": 3
   },
   "file_extension": ".py",
   "mimetype": "text/x-python",
   "name": "python",
   "nbconvert_exporter": "python",
   "pygments_lexer": "ipython3",
   "version": "3.11.4"
  },
  "orig_nbformat": 4
 },
 "nbformat": 4,
 "nbformat_minor": 2
}
